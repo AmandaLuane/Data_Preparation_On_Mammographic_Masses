{
 "cells": [
  {
   "cell_type": "markdown",
   "metadata": {},
   "source": [
    "<div class=\"alert alert-warning\">\n",
    "DATA PREPARATION ON MAMMOGRAPHIC MASSES\n",
    "\n",
    "<br>Data Acquired From University of California, Irvine Machine Learning Repository\n",
    "<br>Additonal Data Information in the Link Below:\n",
    "<br>\n",
    "[http://archive.ics.uci.edu/ml/machine-learning-databases/mammographic-masses/mammographic_masses.names](http://archive.ics.uci.edu/ml/machine-learning-databases/mammographic-masses/mammographic_masses.names)\n",
    "\n",
    "The Data was used to determine the effectiveness of radiological evaluations of breast cancer diagnoses in women who have breast tumors.\n",
    "</div>"
   ]
  },
  {
   "cell_type": "code",
   "execution_count": 58,
   "metadata": {},
   "outputs": [],
   "source": [
    "# Packages\n",
    "import numpy as np\n",
    "import pandas as pd\n",
    "\n",
    "# Get Packages\n",
    "from pandas.plotting import scatter_matrix\n",
    "from sklearn.preprocessing import OneHotEncoder\n",
    "\n",
    "%matplotlib inline"
   ]
  },
  {
   "cell_type": "code",
   "execution_count": 59,
   "metadata": {},
   "outputs": [
    {
     "data": {
      "text/html": [
       "<div>\n",
       "<style scoped>\n",
       "    .dataframe tbody tr th:only-of-type {\n",
       "        vertical-align: middle;\n",
       "    }\n",
       "\n",
       "    .dataframe tbody tr th {\n",
       "        vertical-align: top;\n",
       "    }\n",
       "\n",
       "    .dataframe thead th {\n",
       "        text-align: right;\n",
       "    }\n",
       "</style>\n",
       "<table border=\"1\" class=\"dataframe\">\n",
       "  <thead>\n",
       "    <tr style=\"text-align: right;\">\n",
       "      <th></th>\n",
       "      <th>BI_RADS</th>\n",
       "      <th>Age</th>\n",
       "      <th>Shape</th>\n",
       "      <th>Margin</th>\n",
       "      <th>Density</th>\n",
       "      <th>Severity</th>\n",
       "    </tr>\n",
       "  </thead>\n",
       "  <tbody>\n",
       "    <tr>\n",
       "      <th>0</th>\n",
       "      <td>5</td>\n",
       "      <td>67</td>\n",
       "      <td>3</td>\n",
       "      <td>5</td>\n",
       "      <td>3</td>\n",
       "      <td>1</td>\n",
       "    </tr>\n",
       "    <tr>\n",
       "      <th>1</th>\n",
       "      <td>4</td>\n",
       "      <td>43</td>\n",
       "      <td>1</td>\n",
       "      <td>1</td>\n",
       "      <td>?</td>\n",
       "      <td>1</td>\n",
       "    </tr>\n",
       "    <tr>\n",
       "      <th>2</th>\n",
       "      <td>5</td>\n",
       "      <td>58</td>\n",
       "      <td>4</td>\n",
       "      <td>5</td>\n",
       "      <td>3</td>\n",
       "      <td>1</td>\n",
       "    </tr>\n",
       "    <tr>\n",
       "      <th>3</th>\n",
       "      <td>4</td>\n",
       "      <td>28</td>\n",
       "      <td>1</td>\n",
       "      <td>1</td>\n",
       "      <td>3</td>\n",
       "      <td>0</td>\n",
       "    </tr>\n",
       "    <tr>\n",
       "      <th>4</th>\n",
       "      <td>5</td>\n",
       "      <td>74</td>\n",
       "      <td>1</td>\n",
       "      <td>5</td>\n",
       "      <td>?</td>\n",
       "      <td>1</td>\n",
       "    </tr>\n",
       "  </tbody>\n",
       "</table>\n",
       "</div>"
      ],
      "text/plain": [
       "  BI_RADS Age Shape Margin Density  Severity\n",
       "0       5  67     3      5       3         1\n",
       "1       4  43     1      1       ?         1\n",
       "2       5  58     4      5       3         1\n",
       "3       4  28     1      1       3         0\n",
       "4       5  74     1      5       ?         1"
      ]
     },
     "execution_count": 59,
     "metadata": {},
     "output_type": "execute_result"
    }
   ],
   "source": [
    "# URL DATA\n",
    "url = \"http://archive.ics.uci.edu/ml/machine-learning-databases/mammographic-masses/mammographic_masses.data\"\n",
    "\n",
    "# Downloading Data\n",
    "Mamm = pd.read_csv(url, header=None)\n",
    "\n",
    "# Replacing Default Collumn Names (0, 1, 2, 3, 4, 5)\n",
    "Mamm.columns = [\"BI_RADS\", \"Age\", \"Shape\", \"Margin\", \"Density\", \"Severity\"]\n",
    "\n",
    "Mamm.head()"
   ]
  },
  {
   "cell_type": "code",
   "execution_count": 60,
   "metadata": {},
   "outputs": [
    {
     "data": {
      "text/plain": [
       "(961, 6)"
      ]
     },
     "metadata": {},
     "output_type": "display_data"
    },
    {
     "data": {
      "text/plain": [
       "BI_RADS     object\n",
       "Age         object\n",
       "Shape       object\n",
       "Margin      object\n",
       "Density     object\n",
       "Severity     int64\n",
       "dtype: object"
      ]
     },
     "metadata": {},
     "output_type": "display_data"
    }
   ],
   "source": [
    "# Preliminary EDA\n",
    "display(Mamm.shape)\n",
    "display(Mamm.dtypes)"
   ]
  },
  {
   "cell_type": "markdown",
   "metadata": {},
   "source": [
    "<div class=\"alert alert-warning\">\n",
    "DATA PROCESSING:\n",
    "<br>* Replacing Unusable Entries with \"null/nan\"\n",
    "<br>* Change Data Types\n",
    "<br>* Correct Unexpected Values (The Outliers)\n",
    "<br>* Decode Category Data    \n",
    "<br>* Consolidate Categories in Category Data \n",
    "</div>"
   ]
  },
  {
   "cell_type": "code",
   "execution_count": 61,
   "metadata": {},
   "outputs": [
    {
     "data": {
      "text/html": [
       "<div>\n",
       "<style scoped>\n",
       "    .dataframe tbody tr th:only-of-type {\n",
       "        vertical-align: middle;\n",
       "    }\n",
       "\n",
       "    .dataframe tbody tr th {\n",
       "        vertical-align: top;\n",
       "    }\n",
       "\n",
       "    .dataframe thead th {\n",
       "        text-align: right;\n",
       "    }\n",
       "</style>\n",
       "<table border=\"1\" class=\"dataframe\">\n",
       "  <thead>\n",
       "    <tr style=\"text-align: right;\">\n",
       "      <th></th>\n",
       "      <th>BI_RADS</th>\n",
       "      <th>Age</th>\n",
       "      <th>Shape</th>\n",
       "      <th>Margin</th>\n",
       "      <th>Density</th>\n",
       "      <th>Severity</th>\n",
       "    </tr>\n",
       "  </thead>\n",
       "  <tbody>\n",
       "    <tr>\n",
       "      <th>0</th>\n",
       "      <td>5.0</td>\n",
       "      <td>67.0</td>\n",
       "      <td>3.0</td>\n",
       "      <td>5.0</td>\n",
       "      <td>3.0</td>\n",
       "      <td>1</td>\n",
       "    </tr>\n",
       "    <tr>\n",
       "      <th>1</th>\n",
       "      <td>4.0</td>\n",
       "      <td>43.0</td>\n",
       "      <td>1.0</td>\n",
       "      <td>1.0</td>\n",
       "      <td>NaN</td>\n",
       "      <td>1</td>\n",
       "    </tr>\n",
       "    <tr>\n",
       "      <th>2</th>\n",
       "      <td>5.0</td>\n",
       "      <td>58.0</td>\n",
       "      <td>4.0</td>\n",
       "      <td>5.0</td>\n",
       "      <td>3.0</td>\n",
       "      <td>1</td>\n",
       "    </tr>\n",
       "    <tr>\n",
       "      <th>3</th>\n",
       "      <td>4.0</td>\n",
       "      <td>28.0</td>\n",
       "      <td>1.0</td>\n",
       "      <td>1.0</td>\n",
       "      <td>3.0</td>\n",
       "      <td>0</td>\n",
       "    </tr>\n",
       "    <tr>\n",
       "      <th>4</th>\n",
       "      <td>5.0</td>\n",
       "      <td>74.0</td>\n",
       "      <td>1.0</td>\n",
       "      <td>5.0</td>\n",
       "      <td>NaN</td>\n",
       "      <td>1</td>\n",
       "    </tr>\n",
       "  </tbody>\n",
       "</table>\n",
       "</div>"
      ],
      "text/plain": [
       "   BI_RADS   Age  Shape  Margin  Density  Severity\n",
       "0      5.0  67.0    3.0     5.0      3.0         1\n",
       "1      4.0  43.0    1.0     1.0      NaN         1\n",
       "2      5.0  58.0    4.0     5.0      3.0         1\n",
       "3      4.0  28.0    1.0     1.0      3.0         0\n",
       "4      5.0  74.0    1.0     5.0      NaN         1"
      ]
     },
     "execution_count": 61,
     "metadata": {},
     "output_type": "execute_result"
    }
   ],
   "source": [
    "# Coerce All Data to Numeric Data\n",
    "# Coercion Introduces nans/nulls for the Non-Numeric Values in All Columns\n",
    "# Missing Categories will be nans/nulls After Coercion for Categories encoded as Integers\n",
    "Mamm = Mamm.apply(pd.to_numeric, errors=\"coerce\")\n",
    "\n",
    "Mamm.head(5)\n"
   ]
  },
  {
   "cell_type": "code",
   "execution_count": 62,
   "metadata": {},
   "outputs": [
    {
     "data": {
      "text/plain": [
       "BI_RADS     float64\n",
       "Age         float64\n",
       "Shape       float64\n",
       "Margin      float64\n",
       "Density     float64\n",
       "Severity      int64\n",
       "dtype: object"
      ]
     },
     "metadata": {},
     "output_type": "display_data"
    }
   ],
   "source": [
    "# Checking Data Types Again\n",
    "display(Mamm.dtypes)"
   ]
  },
  {
   "cell_type": "code",
   "execution_count": 63,
   "metadata": {},
   "outputs": [],
   "source": [
    "# Replacing Outliers\n",
    "# Cap \"BI_RADS\" Values to Range 1 to 5\n",
    "Mamm.BI_RADS = np.clip(Mamm.BI_RADS, a_min = 1, a_max = 5)"
   ]
  },
  {
   "cell_type": "markdown",
   "metadata": {},
   "source": [
    "<div class=\"alert alert-warning\">\n",
    "\n",
    "**CONSOLIDAGTING & DECODING CATEGORY COLUMNS**\n",
    "\n",
    "\n",
    "**Orginal Shape Category Coding:**\n",
    "<br>round = 1\n",
    "<br>oval = 2\n",
    "<br>lobular = 3\n",
    "<br>irregular = 4\n",
    "\n",
    "**Orignial Margin Category Coding:**\n",
    "<br>circumscribed = 1\n",
    "<br>microlobulated = 2\n",
    "<br>obscured = 3\n",
    "<br>illdefined = 4\n",
    "<br>spiculated = 5\n",
    "\n",
    "\n",
    "</div>"
   ]
  },
  {
   "cell_type": "code",
   "execution_count": 64,
   "metadata": {},
   "outputs": [
    {
     "data": {
      "text/html": [
       "<div>\n",
       "<style scoped>\n",
       "    .dataframe tbody tr th:only-of-type {\n",
       "        vertical-align: middle;\n",
       "    }\n",
       "\n",
       "    .dataframe tbody tr th {\n",
       "        vertical-align: top;\n",
       "    }\n",
       "\n",
       "    .dataframe thead th {\n",
       "        text-align: right;\n",
       "    }\n",
       "</style>\n",
       "<table border=\"1\" class=\"dataframe\">\n",
       "  <thead>\n",
       "    <tr style=\"text-align: right;\">\n",
       "      <th></th>\n",
       "      <th>BI_RADS</th>\n",
       "      <th>Age</th>\n",
       "      <th>Shape</th>\n",
       "      <th>Margin</th>\n",
       "      <th>Density</th>\n",
       "      <th>Severity</th>\n",
       "    </tr>\n",
       "  </thead>\n",
       "  <tbody>\n",
       "    <tr>\n",
       "      <th>0</th>\n",
       "      <td>5.0</td>\n",
       "      <td>67.0</td>\n",
       "      <td>lobular</td>\n",
       "      <td>spiculated</td>\n",
       "      <td>3.0</td>\n",
       "      <td>1</td>\n",
       "    </tr>\n",
       "    <tr>\n",
       "      <th>1</th>\n",
       "      <td>4.0</td>\n",
       "      <td>43.0</td>\n",
       "      <td>oval</td>\n",
       "      <td>circumscribed</td>\n",
       "      <td>NaN</td>\n",
       "      <td>1</td>\n",
       "    </tr>\n",
       "    <tr>\n",
       "      <th>2</th>\n",
       "      <td>5.0</td>\n",
       "      <td>58.0</td>\n",
       "      <td>irregular</td>\n",
       "      <td>spiculated</td>\n",
       "      <td>3.0</td>\n",
       "      <td>1</td>\n",
       "    </tr>\n",
       "    <tr>\n",
       "      <th>3</th>\n",
       "      <td>4.0</td>\n",
       "      <td>28.0</td>\n",
       "      <td>oval</td>\n",
       "      <td>circumscribed</td>\n",
       "      <td>3.0</td>\n",
       "      <td>0</td>\n",
       "    </tr>\n",
       "    <tr>\n",
       "      <th>4</th>\n",
       "      <td>5.0</td>\n",
       "      <td>74.0</td>\n",
       "      <td>oval</td>\n",
       "      <td>spiculated</td>\n",
       "      <td>NaN</td>\n",
       "      <td>1</td>\n",
       "    </tr>\n",
       "  </tbody>\n",
       "</table>\n",
       "</div>"
      ],
      "text/plain": [
       "   BI_RADS   Age      Shape         Margin  Density  Severity\n",
       "0      5.0  67.0    lobular     spiculated      3.0         1\n",
       "1      4.0  43.0       oval  circumscribed      NaN         1\n",
       "2      5.0  58.0  irregular     spiculated      3.0         1\n",
       "3      4.0  28.0       oval  circumscribed      3.0         0\n",
       "4      5.0  74.0       oval     spiculated      NaN         1"
      ]
     },
     "execution_count": 64,
     "metadata": {},
     "output_type": "execute_result"
    }
   ],
   "source": [
    "# The Category Columns are Decoded & Categories are Consolidated\n",
    "# Shape Variable Decoded As:\n",
    "shape_decoding = {\n",
    "    1: 'oval',\n",
    "    2: 'oval',\n",
    "    3: 'lobular',\n",
    "    4: 'irregular'\n",
    "}\n",
    "Mamm.Shape = Mamm.Shape.replace(shape_decoding)\n",
    "\n",
    "# Shape Variable Decoded As:\n",
    "margin_decoding = {\n",
    "    1: 'circumscribed',\n",
    "    2: 'ill-defined',\n",
    "    3: 'ill-defined',\n",
    "    4: 'ill-defined',\n",
    "    5: 'spiculated'\n",
    "}\n",
    "Mamm.Margin = Mamm.Margin.replace(margin_decoding)\n",
    "\n",
    "Mamm.head(5)"
   ]
  },
  {
   "cell_type": "code",
   "execution_count": 65,
   "metadata": {},
   "outputs": [
    {
     "data": {
      "text/plain": [
       "(961, 6)"
      ]
     },
     "metadata": {},
     "output_type": "display_data"
    },
    {
     "data": {
      "text/plain": [
       "BI_RADS      2\n",
       "Age          5\n",
       "Shape       31\n",
       "Margin      48\n",
       "Density     76\n",
       "Severity     0\n",
       "dtype: int64"
      ]
     },
     "execution_count": 65,
     "metadata": {},
     "output_type": "execute_result"
    }
   ],
   "source": [
    "# EDA\n",
    "display(Mamm.shape)\n",
    "\n",
    "# Distribution of Nulls Among Columns\n",
    "Mamm.isna().sum(axis = 0)"
   ]
  },
  {
   "cell_type": "code",
   "execution_count": 66,
   "metadata": {},
   "outputs": [
    {
     "data": {
      "text/plain": [
       "(931, 6)"
      ]
     },
     "metadata": {},
     "output_type": "display_data"
    },
    {
     "data": {
      "text/plain": [
       "BI_RADS      1\n",
       "Age          5\n",
       "Shape       17\n",
       "Margin      22\n",
       "Density     56\n",
       "Severity     0\n",
       "dtype: int64"
      ]
     },
     "execution_count": 66,
     "metadata": {},
     "output_type": "execute_result"
    }
   ],
   "source": [
    "# Dropping Rows w/ Multiple Missing Values\n",
    "# Drop Rows w/ Threshold of 5\n",
    "Mamm = Mamm.dropna(thresh=5)\n",
    "\n",
    "# Show the Shape of the Data\n",
    "display(Mamm.shape)\n",
    "\n",
    "# Show the Distribution of Nulls Among the Columns\n",
    "Mamm.isna().sum(axis = 0)"
   ]
  },
  {
   "cell_type": "code",
   "execution_count": 67,
   "metadata": {},
   "outputs": [
    {
     "name": "stdout",
     "output_type": "stream",
     "text": [
      "Now we replace 5 missing age values with the age median ( 57.0 )\n"
     ]
    },
    {
     "data": {
      "text/plain": [
       "BI_RADS      1\n",
       "Age          0\n",
       "Shape       17\n",
       "Margin      22\n",
       "Density     56\n",
       "Severity     0\n",
       "dtype: int64"
      ]
     },
     "execution_count": 67,
     "metadata": {},
     "output_type": "execute_result"
    }
   ],
   "source": [
    "# Determining the Imputation Values for Age\n",
    "# Replace Missing Age Values w/ Median\n",
    "MedianAge = np.nanmedian(Mamm.loc[:,\"Age\"])\n",
    "HasNanAge = pd.isnull(Mamm.loc[:,\"Age\"])\n",
    "print('Now we replace', HasNanAge.sum(),'missing age values with the age median (', MedianAge, ')')\n",
    "Mamm.loc[HasNanAge, \"Age\"] = MedianAge\n",
    "Mamm.isna().sum(axis=0)"
   ]
  },
  {
   "cell_type": "code",
   "execution_count": 68,
   "metadata": {},
   "outputs": [
    {
     "name": "stdout",
     "output_type": "stream",
     "text": [
      "Now we replace 1 missing age values with the age median ( 4.0 )\n",
      "\n",
      "**********************************\n",
      "\n",
      "Now we replace 56 missing age values with the age median ( 3.0 )\n",
      "\n",
      "********* REMAINING NULLS ********\n"
     ]
    },
    {
     "data": {
      "text/plain": [
       "BI_RADS      0\n",
       "Age          0\n",
       "Shape       17\n",
       "Margin      22\n",
       "Density      0\n",
       "Severity     0\n",
       "dtype: int64"
      ]
     },
     "execution_count": 68,
     "metadata": {},
     "output_type": "execute_result"
    }
   ],
   "source": [
    "# Impute Missing Values for BI_RADS & Density\n",
    "# Median Imputation for BI_RADS\n",
    "median_bi_rads = np.nanmedian(Mamm.loc[:,\"BI_RADS\"])\n",
    "\n",
    "# Median Imputation for Density\n",
    "median_density = np.nanmedian(Mamm.loc[:,\"Density\"])\n",
    "\n",
    "# Distribution of Nulls\n",
    "has_nan_bi_rads = pd.isnull(Mamm.loc[:, \"BI_RADS\"])\n",
    "has_nan_density = pd.isnull(Mamm.loc[:, \"Density\"])\n",
    "\n",
    "# BI_RADS \n",
    "print('Now we replace', has_nan_bi_rads.sum(),'missing age values with the age median (', median_bi_rads, ')')\n",
    "Mamm.loc[has_nan_bi_rads, \"BI_RADS\"] = median_bi_rads\n",
    "\n",
    "print(\"\\n**********************************\\n\")\n",
    "\n",
    "# Density \n",
    "print('Now we replace', has_nan_density.sum(),'missing age values with the age median (', median_density, ')')\n",
    "Mamm.loc[has_nan_density, \"Density\"] = median_density\n",
    "\n",
    "# Numbers of Nulls Per Column After Imputation\n",
    "print(\"\\n********* REMAINING NULLS ********\")\n",
    "Mamm.isna().sum(axis=0)"
   ]
  },
  {
   "cell_type": "code",
   "execution_count": 69,
   "metadata": {},
   "outputs": [
    {
     "name": "stdout",
     "output_type": "stream",
     "text": [
      "*********SHAPE*******\n"
     ]
    },
    {
     "data": {
      "text/plain": [
       "Shape\n",
       "oval         422\n",
       "irregular    399\n",
       "lobular       93\n",
       "Name: count, dtype: int64"
      ]
     },
     "metadata": {},
     "output_type": "display_data"
    },
    {
     "name": "stdout",
     "output_type": "stream",
     "text": [
      "\n",
      "**********************************\n",
      "\n",
      "Now we replace 17 missing age values with the age median ( oval )\n",
      "\n",
      "*********MARGIN*******\n",
      "\n"
     ]
    },
    {
     "data": {
      "text/plain": [
       "Margin\n",
       "ill-defined      417\n",
       "circumscribed    357\n",
       "spiculated       135\n",
       "Name: count, dtype: int64"
      ]
     },
     "metadata": {},
     "output_type": "display_data"
    },
    {
     "name": "stdout",
     "output_type": "stream",
     "text": [
      "\n",
      "**********************************\n",
      "\n",
      "Now we replace 22 missing age values with the age median ( ill-defined )\n",
      "\n",
      "*********DISTRIBUTION OF CATEGORIES*******\n",
      "\n"
     ]
    },
    {
     "data": {
      "text/plain": [
       "BI_RADS  Age   Shape      Margin         Density  Severity\n",
       "5.0      66.0  irregular  ill-defined    3.0      1           11\n",
       "4.0      45.0  oval       circumscribed  3.0      0           10\n",
       "         59.0  oval       circumscribed  3.0      0            9\n",
       "         56.0  oval       circumscribed  3.0      0            9\n",
       "         63.0  oval       circumscribed  3.0      0            8\n",
       "                                                              ..\n",
       "         58.0  irregular  spiculated     3.0      0            1\n",
       "         57.0  oval       spiculated     3.0      0            1\n",
       "                          ill-defined    1.0      0            1\n",
       "                          circumscribed  2.0      0            1\n",
       "5.0      96.0  lobular    ill-defined    3.0      1            1\n",
       "Name: count, Length: 524, dtype: int64"
      ]
     },
     "metadata": {},
     "output_type": "display_data"
    }
   ],
   "source": [
    "# Replacing Missing Values for the 2 Categorical Columns\n",
    "print(\"*********SHAPE*******\")\n",
    "# Determine Distribution of Categories for Shape\n",
    "display(Mamm.Shape.value_counts())\n",
    "\n",
    "print(\"\\n**********************************\\n\")\n",
    "\n",
    "# Common \"Shape\" Value\n",
    "common_val_shape = Mamm.Shape.value_counts().idxmax()\n",
    "\n",
    "# Replace Nulls in Shape w/ the Most Common Category of Shape\n",
    "HasNanShape = pd.isnull(Mamm.loc[:,\"Shape\"])\n",
    "print('Now we replace', HasNanShape.sum(),'missing age values with the age median (', common_val_shape, ')')\n",
    "Mamm.loc[HasNanShape, \"Shape\"] = common_val_shape\n",
    "\n",
    "\n",
    "print(\"\\n*********MARGIN*******\\n\")\n",
    "# Determine Distribution of Categories for Margin\n",
    "display(Mamm.Margin.value_counts())\n",
    "\n",
    "print(\"\\n**********************************\\n\")\n",
    "\n",
    "# Common \"Margin\" Value\n",
    "common_val_margin = Mamm.Margin.value_counts().idxmax()\n",
    "\n",
    "# Replace Nulls in Margin w/ the Most Common Category of Margin\n",
    "HasNanMargin = pd.isnull(Mamm.loc[:,\"Margin\"])\n",
    "print('Now we replace', HasNanMargin.sum(),'missing age values with the age median (', common_val_margin, ')')\n",
    "Mamm.loc[HasNanMargin, \"Margin\"] = common_val_margin\n",
    "\n",
    "# Distribution of Nulls\n",
    "Mamm.isna().sum(axis=0)\n",
    "\n",
    "# Determine the Distribution of Categories\n",
    "print(\"\\n*********DISTRIBUTION OF CATEGORIES*******\\n\")\n",
    "display(Mamm.value_counts())"
   ]
  },
  {
   "cell_type": "code",
   "execution_count": 70,
   "metadata": {},
   "outputs": [
    {
     "data": {
      "text/plain": [
       "BI_RADS     float64\n",
       "Age         float64\n",
       "Shape        object\n",
       "Margin       object\n",
       "Density     float64\n",
       "Severity      int64\n",
       "dtype: object"
      ]
     },
     "metadata": {},
     "output_type": "display_data"
    },
    {
     "data": {
      "text/html": [
       "<div>\n",
       "<style scoped>\n",
       "    .dataframe tbody tr th:only-of-type {\n",
       "        vertical-align: middle;\n",
       "    }\n",
       "\n",
       "    .dataframe tbody tr th {\n",
       "        vertical-align: top;\n",
       "    }\n",
       "\n",
       "    .dataframe thead th {\n",
       "        text-align: right;\n",
       "    }\n",
       "</style>\n",
       "<table border=\"1\" class=\"dataframe\">\n",
       "  <thead>\n",
       "    <tr style=\"text-align: right;\">\n",
       "      <th></th>\n",
       "      <th>BI_RADS</th>\n",
       "      <th>Age</th>\n",
       "      <th>Shape</th>\n",
       "      <th>Margin</th>\n",
       "      <th>Density</th>\n",
       "      <th>Severity</th>\n",
       "    </tr>\n",
       "  </thead>\n",
       "  <tbody>\n",
       "    <tr>\n",
       "      <th>0</th>\n",
       "      <td>5.0</td>\n",
       "      <td>67.0</td>\n",
       "      <td>lobular</td>\n",
       "      <td>spiculated</td>\n",
       "      <td>3.0</td>\n",
       "      <td>1</td>\n",
       "    </tr>\n",
       "    <tr>\n",
       "      <th>1</th>\n",
       "      <td>4.0</td>\n",
       "      <td>43.0</td>\n",
       "      <td>oval</td>\n",
       "      <td>circumscribed</td>\n",
       "      <td>3.0</td>\n",
       "      <td>1</td>\n",
       "    </tr>\n",
       "    <tr>\n",
       "      <th>2</th>\n",
       "      <td>5.0</td>\n",
       "      <td>58.0</td>\n",
       "      <td>irregular</td>\n",
       "      <td>spiculated</td>\n",
       "      <td>3.0</td>\n",
       "      <td>1</td>\n",
       "    </tr>\n",
       "    <tr>\n",
       "      <th>3</th>\n",
       "      <td>4.0</td>\n",
       "      <td>28.0</td>\n",
       "      <td>oval</td>\n",
       "      <td>circumscribed</td>\n",
       "      <td>3.0</td>\n",
       "      <td>0</td>\n",
       "    </tr>\n",
       "    <tr>\n",
       "      <th>4</th>\n",
       "      <td>5.0</td>\n",
       "      <td>74.0</td>\n",
       "      <td>oval</td>\n",
       "      <td>spiculated</td>\n",
       "      <td>3.0</td>\n",
       "      <td>1</td>\n",
       "    </tr>\n",
       "  </tbody>\n",
       "</table>\n",
       "</div>"
      ],
      "text/plain": [
       "   BI_RADS   Age      Shape         Margin  Density  Severity\n",
       "0      5.0  67.0    lobular     spiculated      3.0         1\n",
       "1      4.0  43.0       oval  circumscribed      3.0         1\n",
       "2      5.0  58.0  irregular     spiculated      3.0         1\n",
       "3      4.0  28.0       oval  circumscribed      3.0         0\n",
       "4      5.0  74.0       oval     spiculated      3.0         1"
      ]
     },
     "execution_count": 70,
     "metadata": {},
     "output_type": "execute_result"
    }
   ],
   "source": [
    "# Checking the Data Types\n",
    "display(Mamm.dtypes)\n",
    "Mamm.head()"
   ]
  },
  {
   "cell_type": "code",
   "execution_count": 71,
   "metadata": {},
   "outputs": [
    {
     "data": {
      "text/plain": [
       "BI_RADS      float64\n",
       "Age          float64\n",
       "Shape       category\n",
       "Margin      category\n",
       "Density      float64\n",
       "Severity       int64\n",
       "dtype: object"
      ]
     },
     "metadata": {},
     "output_type": "display_data"
    },
    {
     "name": "stderr",
     "output_type": "stream",
     "text": [
      "c:\\Users\\amand\\AppData\\Local\\Programs\\Python\\Python311\\Lib\\site-packages\\sklearn\\preprocessing\\_encoders.py:975: FutureWarning: `sparse` was renamed to `sparse_output` in version 1.2 and will be removed in 1.4. `sparse_output` is ignored unless you leave `sparse` to its default value.\n",
      "  warnings.warn(\n"
     ]
    },
    {
     "data": {
      "text/html": [
       "<div>\n",
       "<style scoped>\n",
       "    .dataframe tbody tr th:only-of-type {\n",
       "        vertical-align: middle;\n",
       "    }\n",
       "\n",
       "    .dataframe tbody tr th {\n",
       "        vertical-align: top;\n",
       "    }\n",
       "\n",
       "    .dataframe thead th {\n",
       "        text-align: right;\n",
       "    }\n",
       "</style>\n",
       "<table border=\"1\" class=\"dataframe\">\n",
       "  <thead>\n",
       "    <tr style=\"text-align: right;\">\n",
       "      <th></th>\n",
       "      <th>BI_RADS</th>\n",
       "      <th>Age</th>\n",
       "      <th>Density</th>\n",
       "      <th>Severity</th>\n",
       "      <th>Shape_irregular</th>\n",
       "      <th>Shape_lobular</th>\n",
       "      <th>Shape_oval</th>\n",
       "      <th>Margin_circumscribed</th>\n",
       "      <th>Margin_ill-defined</th>\n",
       "      <th>Margin_spiculated</th>\n",
       "    </tr>\n",
       "  </thead>\n",
       "  <tbody>\n",
       "    <tr>\n",
       "      <th>0</th>\n",
       "      <td>5.0</td>\n",
       "      <td>67.0</td>\n",
       "      <td>3.0</td>\n",
       "      <td>1.0</td>\n",
       "      <td>0.0</td>\n",
       "      <td>1.0</td>\n",
       "      <td>0.0</td>\n",
       "      <td>0.0</td>\n",
       "      <td>0.0</td>\n",
       "      <td>1.0</td>\n",
       "    </tr>\n",
       "    <tr>\n",
       "      <th>1</th>\n",
       "      <td>4.0</td>\n",
       "      <td>43.0</td>\n",
       "      <td>3.0</td>\n",
       "      <td>1.0</td>\n",
       "      <td>0.0</td>\n",
       "      <td>0.0</td>\n",
       "      <td>1.0</td>\n",
       "      <td>1.0</td>\n",
       "      <td>0.0</td>\n",
       "      <td>0.0</td>\n",
       "    </tr>\n",
       "    <tr>\n",
       "      <th>2</th>\n",
       "      <td>5.0</td>\n",
       "      <td>58.0</td>\n",
       "      <td>3.0</td>\n",
       "      <td>1.0</td>\n",
       "      <td>1.0</td>\n",
       "      <td>0.0</td>\n",
       "      <td>0.0</td>\n",
       "      <td>0.0</td>\n",
       "      <td>0.0</td>\n",
       "      <td>1.0</td>\n",
       "    </tr>\n",
       "    <tr>\n",
       "      <th>3</th>\n",
       "      <td>4.0</td>\n",
       "      <td>28.0</td>\n",
       "      <td>3.0</td>\n",
       "      <td>0.0</td>\n",
       "      <td>0.0</td>\n",
       "      <td>0.0</td>\n",
       "      <td>1.0</td>\n",
       "      <td>1.0</td>\n",
       "      <td>0.0</td>\n",
       "      <td>0.0</td>\n",
       "    </tr>\n",
       "    <tr>\n",
       "      <th>4</th>\n",
       "      <td>5.0</td>\n",
       "      <td>74.0</td>\n",
       "      <td>3.0</td>\n",
       "      <td>1.0</td>\n",
       "      <td>0.0</td>\n",
       "      <td>0.0</td>\n",
       "      <td>1.0</td>\n",
       "      <td>0.0</td>\n",
       "      <td>0.0</td>\n",
       "      <td>1.0</td>\n",
       "    </tr>\n",
       "  </tbody>\n",
       "</table>\n",
       "</div>"
      ],
      "text/plain": [
       "   BI_RADS   Age  Density  Severity  Shape_irregular  Shape_lobular  \\\n",
       "0      5.0  67.0      3.0       1.0              0.0            1.0   \n",
       "1      4.0  43.0      3.0       1.0              0.0            0.0   \n",
       "2      5.0  58.0      3.0       1.0              1.0            0.0   \n",
       "3      4.0  28.0      3.0       0.0              0.0            0.0   \n",
       "4      5.0  74.0      3.0       1.0              0.0            0.0   \n",
       "\n",
       "   Shape_oval  Margin_circumscribed  Margin_ill-defined  Margin_spiculated  \n",
       "0         0.0                   0.0                 0.0                1.0  \n",
       "1         1.0                   1.0                 0.0                0.0  \n",
       "2         0.0                   0.0                 0.0                1.0  \n",
       "3         1.0                   1.0                 0.0                0.0  \n",
       "4         1.0                   0.0                 0.0                1.0  "
      ]
     },
     "execution_count": 71,
     "metadata": {},
     "output_type": "execute_result"
    }
   ],
   "source": [
    "# One Hot Encode the Categorical Variables\n",
    "\n",
    "# Changing \"Shape\" & \"Margin\" Data Type from \"object\" to \"category\"\n",
    "# I don't need to change the data type, adding step for feature changes.\n",
    "Mamm[['Shape', 'Margin']] = Mamm[['Shape', 'Margin']].astype('category')\n",
    "\n",
    "display(Mamm.dtypes)\n",
    "\n",
    "# One-hot-encode\n",
    "onehot = OneHotEncoder(sparse = False)\n",
    "onehot.fit(Mamm[[\"Shape\", \"Margin\"]])\n",
    "\n",
    "# Create Column Names\n",
    "col_names = onehot.get_feature_names_out([\"Shape\", \"Margin\"])\n",
    "\n",
    "# Add one-hot-encoded columns to dataframe\n",
    "mamm_onehot = pd.DataFrame(onehot.transform(Mamm[[\"Shape\", \"Margin\"]]), columns = col_names)\n",
    "\n",
    "Mamm = pd.concat([Mamm, mamm_onehot], axis=1)\n",
    "\n",
    "# Drop original categorical columns\n",
    "Mamm.drop(columns=['Shape', 'Margin'], inplace=True)\n",
    "\n",
    "# Show the first few rows\n",
    "Mamm.head()"
   ]
  }
 ],
 "metadata": {
  "kernelspec": {
   "display_name": "Python 3",
   "language": "python",
   "name": "python3"
  },
  "language_info": {
   "codemirror_mode": {
    "name": "ipython",
    "version": 3
   },
   "file_extension": ".py",
   "mimetype": "text/x-python",
   "name": "python",
   "nbconvert_exporter": "python",
   "pygments_lexer": "ipython3",
   "version": "3.11.4"
  }
 },
 "nbformat": 4,
 "nbformat_minor": 2
}
